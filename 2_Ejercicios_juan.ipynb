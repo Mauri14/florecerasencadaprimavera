{
 "cells": [
  {
   "cell_type": "markdown",
   "metadata": {},
   "source": [
    "#### **Ejercicio 1: Creación y manipulación de Series**\n",
    "1. Crea una Serie que contenga las ventas de una tienda de lunes a viernes. Utiliza las siguientes cantidades:\n",
    "   - Lunes: 100\n",
    "   - Martes: 150\n",
    "   - Miércoles: 200\n",
    "   - Jueves: 50\n",
    "   - Viernes: 300\n",
    "   "
   ]
  },
  {
   "cell_type": "code",
   "execution_count": 55,
   "metadata": {},
   "outputs": [
    {
     "name": "stdout",
     "output_type": "stream",
     "text": [
      "Lunes        100\n",
      "Martes       150\n",
      "Miercoles    200\n",
      "Jueves        50\n",
      "Viernes      300\n",
      "dtype: int64\n"
     ]
    }
   ],
   "source": [
    "#1. Crea una Serie que contenga las ventas de una tienda de lunes a viernes\n",
    "import pandas as pd\n",
    "serie_ejer1 = pd.Series({'Lunes': 100, \n",
    "                      'Martes': 150, \n",
    "                      'Miercoles': 200, \n",
    "                      'Jueves' : 50, \n",
    "                      'Viernes': 300})\n",
    "print(serie_ejer1)"
   ]
  },
  {
   "cell_type": "markdown",
   "metadata": {},
   "source": [
    "2. Realiza las siguientes operaciones sobre la Serie:\n",
    "   - Accede al valor de las ventas del miércoles.\n",
    "   - Calcula el total de ventas de la semana.\n",
    "   - Filtra los días donde las ventas fueron mayores a 100."
   ]
  },
  {
   "cell_type": "code",
   "execution_count": 56,
   "metadata": {},
   "outputs": [
    {
     "name": "stdout",
     "output_type": "stream",
     "text": [
      "Valor de ventas del miercoles: 200\n"
     ]
    }
   ],
   "source": [
    "# Accede al valor de las ventas del miércoles.\n",
    "print('Valor de ventas del miercoles:',serie_ejer1['Miercoles'])"
   ]
  },
  {
   "cell_type": "code",
   "execution_count": 57,
   "metadata": {},
   "outputs": [
    {
     "name": "stdout",
     "output_type": "stream",
     "text": [
      "Total de ventas a la semana: 800\n"
     ]
    }
   ],
   "source": [
    "#- Calcula el total de ventas de la semana.\n",
    "print('Total de ventas a la semana:',serie_ejer1.sum())\n"
   ]
  },
  {
   "cell_type": "markdown",
   "metadata": {},
   "source": [
    "#### **Ejercicio 2: Creación y análisis de un DataFrame**\n",
    "1. Crea un DataFrame que contenga los nombres y edades de las siguientes personas:\n",
    "   - Ana, 23 años\n",
    "   - Luis, 35 años\n",
    "   - María, 29 años\n",
    "   \n",
    "2. Realiza las siguientes operaciones sobre el DataFrame:\n",
    "   - Accede a la columna de los nombres.\n",
    "   - Filtra las filas donde la edad sea mayor a 25.\n",
    "   - Agrega una nueva columna con los salarios de las personas (Ana: 30000, Luis: 45000, María: 35000)."
   ]
  },
  {
   "cell_type": "code",
   "execution_count": 58,
   "metadata": {},
   "outputs": [
    {
     "name": "stdout",
     "output_type": "stream",
     "text": [
      "  Nombre  Edad\n",
      "0    Ana    23\n",
      "1   Luis    35\n",
      "2  María    29\n"
     ]
    }
   ],
   "source": [
    "#Crea un DataFrame que contenga los nombres y edades de las siguientes personas:\n",
    "data = {'Nombre': ['Ana', 'Luis', 'María'], 'Edad': [23, 35, 29]}\n",
    "df_ejercicio2 = pd.DataFrame(data)\n",
    "print(df_ejercicio2)"
   ]
  },
  {
   "cell_type": "code",
   "execution_count": 59,
   "metadata": {},
   "outputs": [
    {
     "name": "stdout",
     "output_type": "stream",
     "text": [
      "0      Ana\n",
      "1     Luis\n",
      "2    María\n",
      "Name: Nombre, dtype: object\n"
     ]
    }
   ],
   "source": [
    "#Accede a la columna de los nombres.\n",
    "print(df_ejercicio2['Nombre'])"
   ]
  },
  {
   "cell_type": "code",
   "execution_count": 60,
   "metadata": {},
   "outputs": [
    {
     "name": "stdout",
     "output_type": "stream",
     "text": [
      "  Nombre  Edad\n",
      "1   Luis    35\n",
      "2  María    29\n"
     ]
    }
   ],
   "source": [
    "#Filtra las filas donde la edad sea mayor a 25.\n",
    "print(df_ejercicio2[df_ejercicio2['Edad'] > 25])"
   ]
  },
  {
   "cell_type": "code",
   "execution_count": 61,
   "metadata": {},
   "outputs": [
    {
     "name": "stdout",
     "output_type": "stream",
     "text": [
      "  Nombre  Edad  Salario\n",
      "0    Ana    23    30000\n",
      "1   Luis    35    45000\n",
      "2  María    29    35000\n"
     ]
    }
   ],
   "source": [
    "#   - Agrega una nueva columna con los salarios de las personas (Ana: 30000, Luis: 45000, María: 35000).\n",
    "df_ejercicio2['Salario'] = [30000, 45000, 35000]\n",
    "print(df_ejercicio2)"
   ]
  },
  {
   "cell_type": "markdown",
   "metadata": {},
   "source": [
    "#### **Ejercicio 3: Cálculos con DataFrames**\n",
    "1. Crea un DataFrame con información de ventas de productos en una tienda:\n",
    "   - Productos: \"Laptop\", \"Mouse\", \"Teclado\"\n",
    "   - Ventas: 30, 120, 75\n",
    "   - Precio por unidad: 1000, 50, 80\n",
    "\n",
    "2. Calcula:\n",
    "   - La venta total para cada producto (multiplicando el precio por unidad por las ventas).\n",
    "   - El total de ingresos para todos los productos."
   ]
  },
  {
   "cell_type": "code",
   "execution_count": 62,
   "metadata": {},
   "outputs": [
    {
     "name": "stdout",
     "output_type": "stream",
     "text": [
      "    Nombre  Ventas  Precio\n",
      "0   Laptop      30    1000\n",
      "1    Mouse     120      50\n",
      "2  Teclado      75      80\n"
     ]
    }
   ],
   "source": [
    "#1. Crea un DataFrame con información de ventas de productos en una tienda:\n",
    "\n",
    "data = {'Nombre': ['Laptop', 'Mouse', 'Teclado'], 'Ventas': [30, 120, 75], 'Precio': [1000, 50, 80]}\n",
    "df_ejercicio3 = pd.DataFrame(data)\n",
    "print(df_ejercicio3)"
   ]
  },
  {
   "cell_type": "code",
   "execution_count": 63,
   "metadata": {},
   "outputs": [
    {
     "name": "stdout",
     "output_type": "stream",
     "text": [
      "    Nombre  Ventas  Precio  Venta_Total\n",
      "0   Laptop      30    1000        30000\n",
      "1    Mouse     120      50         6000\n",
      "2  Teclado      75      80         6000\n"
     ]
    }
   ],
   "source": [
    "#- La venta total para cada producto (multiplicando el precio por unidad por las ventas).\n",
    "Venta_Total = df_ejercicio3['Ventas']*df_ejercicio3['Precio']\n",
    "df_ejercicio3['Venta_Total']=Venta_Total\n",
    "print(df_ejercicio3)\n"
   ]
  },
  {
   "cell_type": "code",
   "execution_count": 64,
   "metadata": {},
   "outputs": [
    {
     "name": "stdout",
     "output_type": "stream",
     "text": [
      "Venta total de todos los productos 42000 pesos.\n"
     ]
    }
   ],
   "source": [
    "#   - El total de ingresos para todos los productos.\n",
    "print('Venta total de todos los productos',df_ejercicio3['Venta_Total'].sum(),'pesos.')\n"
   ]
  },
  {
   "cell_type": "markdown",
   "metadata": {},
   "source": [
    "#### **Ejercicio 4: Transformación y limpieza de datos en DataFrames**\n",
    "1. Crea un DataFrame con información de estudiantes y sus calificaciones en tres materias:\n",
    "   - Estudiantes: \"Ana\", \"Luis\", \"María\", \"Carlos\"\n",
    "   - Matemáticas: 90, 85, None, 78\n",
    "   - Ciencia: 88, 92, 85, None\n",
    "   - Historia: 75, None, 80, 90\n",
    "\n",
    "2. Realiza las siguientes operaciones:\n",
    "   - Rellena los valores faltantes con la media de cada columna.\n",
    "   - Renombra las columnas de las materias en inglés (Math, Science, History).\n",
    "   - Calcula la calificación promedio de cada estudiante."
   ]
  },
  {
   "cell_type": "code",
   "execution_count": 65,
   "metadata": {},
   "outputs": [
    {
     "name": "stdout",
     "output_type": "stream",
     "text": [
      "  Estudiantes  Matemáticas  Ciencia  Historia\n",
      "0         Ana         90.0     88.0      75.0\n",
      "1        Luis         85.0     92.0       NaN\n",
      "2       María          NaN     85.0      80.0\n",
      "3      Carlos         78.0      NaN      90.0\n"
     ]
    }
   ],
   "source": [
    "#1. Crea un DataFrame con información de estudiantes y sus calificaciones en tres materias:\n",
    "data = {'Estudiantes': ['Ana', 'Luis', 'María', 'Carlos'], \n",
    "        'Matemáticas': [90, 85, None, 78], \n",
    "        'Ciencia': [88, 92, 85, None],\n",
    "        'Historia': [75, None, 80, 90]}\n",
    "df_ejercicio4 = pd.DataFrame(data)\n",
    "print(df_ejercicio4)"
   ]
  },
  {
   "cell_type": "code",
   "execution_count": 67,
   "metadata": {},
   "outputs": [
    {
     "data": {
      "text/html": [
       "<div>\n",
       "<style scoped>\n",
       "    .dataframe tbody tr th:only-of-type {\n",
       "        vertical-align: middle;\n",
       "    }\n",
       "\n",
       "    .dataframe tbody tr th {\n",
       "        vertical-align: top;\n",
       "    }\n",
       "\n",
       "    .dataframe thead th {\n",
       "        text-align: right;\n",
       "    }\n",
       "</style>\n",
       "<table border=\"1\" class=\"dataframe\">\n",
       "  <thead>\n",
       "    <tr style=\"text-align: right;\">\n",
       "      <th></th>\n",
       "      <th>Estudiantes</th>\n",
       "      <th>Matemáticas</th>\n",
       "      <th>Ciencia</th>\n",
       "      <th>Historia</th>\n",
       "    </tr>\n",
       "  </thead>\n",
       "  <tbody>\n",
       "    <tr>\n",
       "      <th>0</th>\n",
       "      <td>Ana</td>\n",
       "      <td>90.00</td>\n",
       "      <td>88.00</td>\n",
       "      <td>75.00</td>\n",
       "    </tr>\n",
       "    <tr>\n",
       "      <th>1</th>\n",
       "      <td>Luis</td>\n",
       "      <td>85.00</td>\n",
       "      <td>92.00</td>\n",
       "      <td>81.67</td>\n",
       "    </tr>\n",
       "    <tr>\n",
       "      <th>2</th>\n",
       "      <td>María</td>\n",
       "      <td>84.33</td>\n",
       "      <td>85.00</td>\n",
       "      <td>80.00</td>\n",
       "    </tr>\n",
       "    <tr>\n",
       "      <th>3</th>\n",
       "      <td>Carlos</td>\n",
       "      <td>78.00</td>\n",
       "      <td>88.33</td>\n",
       "      <td>90.00</td>\n",
       "    </tr>\n",
       "    <tr>\n",
       "      <th>4</th>\n",
       "      <td>NaN</td>\n",
       "      <td>NaN</td>\n",
       "      <td>NaN</td>\n",
       "      <td>81.67</td>\n",
       "    </tr>\n",
       "  </tbody>\n",
       "</table>\n",
       "</div>"
      ],
      "text/plain": [
       "  Estudiantes  Matemáticas  Ciencia  Historia\n",
       "0         Ana        90.00    88.00     75.00\n",
       "1        Luis        85.00    92.00     81.67\n",
       "2       María        84.33    85.00     80.00\n",
       "3      Carlos        78.00    88.33     90.00\n",
       "4         NaN          NaN      NaN     81.67"
      ]
     },
     "execution_count": 67,
     "metadata": {},
     "output_type": "execute_result"
    }
   ],
   "source": [
    "# Rellena los valores faltantes con la media de cada columna.\n",
    "df_ejercicio4.at[2,'Matemáticas'] = round(df_ejercicio4['Matemáticas'].mean(),2)\n",
    "df_ejercicio4.at[3,'Ciencia'] = round(df_ejercicio4['Ciencia'].mean(),2)\n",
    "df_ejercicio4.at[4,'Historia'] = round(df_ejercicio4['Historia'].mean(),2)\n",
    "df_ejercicio4"
   ]
  },
  {
   "cell_type": "code",
   "execution_count": 70,
   "metadata": {},
   "outputs": [
    {
     "name": "stdout",
     "output_type": "stream",
     "text": [
      "  Estudiantes   Math  Science  History\n",
      "0         Ana  90.00    88.00    75.00\n",
      "1        Luis  85.00    92.00    81.67\n",
      "2       María  84.33    85.00    80.00\n",
      "3      Carlos  78.00    88.33    90.00\n",
      "4         NaN    NaN      NaN    81.67\n"
     ]
    }
   ],
   "source": [
    "# Renombrar las columnas\n",
    "df_ejercicio4.rename(columns={'Matemáticas': 'Math', \n",
    "                              'Ciencia': 'Science',\n",
    "                              'Historia' : 'History'}, inplace=True)\n",
    "\n",
    "\n",
    "print(df_ejercicio4)\n"
   ]
  }
 ],
 "metadata": {
  "kernelspec": {
   "display_name": "entorno_juancho",
   "language": "python",
   "name": "python3"
  },
  "language_info": {
   "codemirror_mode": {
    "name": "ipython",
    "version": 3
   },
   "file_extension": ".py",
   "mimetype": "text/x-python",
   "name": "python",
   "nbconvert_exporter": "python",
   "pygments_lexer": "ipython3",
   "version": "3.11.3"
  }
 },
 "nbformat": 4,
 "nbformat_minor": 2
}
