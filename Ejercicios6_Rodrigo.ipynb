{
 "cells": [
  {
   "cell_type": "code",
   "execution_count": 27,
   "metadata": {},
   "outputs": [],
   "source": [
    "# Ejercicio 1: Análisis de Rentabilidad de Productos\n",
    "\n",
    "import pandas as pd\n",
    "\n",
    "data = {\n",
    "    'Producto': ['Computadora', 'Tablet', 'Smartphone', 'Auriculares', 'Cargador'],\n",
    "    'Costo': [500, 300, 200, 50, 20],\n",
    "    'Precio_venta': [1000, 500, 300, 100, 50],\n",
    "    'Unidades_vendidas': [30, 50, 70, 100, 150]\n",
    "}\n",
    "\n",
    "df_productos = pd.DataFrame(data)\n",
    "\n"
   ]
  },
  {
   "cell_type": "code",
   "execution_count": 28,
   "metadata": {},
   "outputs": [
    {
     "name": "stdout",
     "output_type": "stream",
     "text": [
      "      Producto  Precio_venta  Costo  Ganancia  Rentabilidad\n",
      "4     Cargador            50     20        30    150.000000\n",
      "0  Computadora          1000    500       500    100.000000\n",
      "3  Auriculares           100     50        50    100.000000\n",
      "1       Tablet           500    300       200     66.666667\n",
      "2   Smartphone           300    200       100     50.000000\n"
     ]
    }
   ],
   "source": [
    "# Calcula la ganancia por producto y agrega una columna de rentabilidad\n",
    "\n",
    "# Calculando la ganancia\n",
    "df_productos['Ganancia'] = df_productos['Precio_venta'] - df_productos['Costo']\n",
    "\n",
    "# Calculando la rentabilidad (porcentaje de ganancia sobre el costo)\n",
    "df_productos['Rentabilidad'] = (df_productos['Ganancia'] / df_productos['Costo']) * 100\n",
    "\n",
    "# Ordeno por Rentabilidad\n",
    "\n",
    "df_productos_ordenado = df_productos.sort_values(by='Rentabilidad', ascending=False)\n",
    "\n",
    "# Mostrando los resultados\n",
    "print(df_productos_ordenado[['Producto', 'Precio_venta', 'Costo', 'Ganancia', 'Rentabilidad']])\n"
   ]
  },
  {
   "cell_type": "code",
   "execution_count": 29,
   "metadata": {},
   "outputs": [],
   "source": [
    "# Ejercicio 2: Segmentación de Clientes por Edad y Consumo\n",
    "\n",
    "data_clientes = {\n",
    "    'Cliente': ['Ana', 'Luis', 'María', 'Carlos', 'Josefina'],\n",
    "    'Edad': [25, 35, 45, 55, 65],\n",
    "    'Gasto_mensual': [200, 400, 600, 800, 1000]\n",
    "}\n",
    "\n",
    "df_clientes = pd.DataFrame(data_clientes)"
   ]
  },
  {
   "cell_type": "code",
   "execution_count": 30,
   "metadata": {},
   "outputs": [
    {
     "name": "stdout",
     "output_type": "stream",
     "text": [
      "Rango_edad\n",
      "20-29     200.0\n",
      "30-39     400.0\n",
      "40-49     600.0\n",
      "50-59     800.0\n",
      "60+      1000.0\n",
      "Name: Gasto_mensual, dtype: float64\n"
     ]
    },
    {
     "name": "stderr",
     "output_type": "stream",
     "text": [
      "C:\\Users\\Asus\\AppData\\Local\\Temp\\ipykernel_4848\\3242191550.py:11: FutureWarning: The default of observed=False is deprecated and will be changed to True in a future version of pandas. Pass observed=False to retain current behavior or observed=True to adopt the future default and silence this warning.\n",
      "  df_agrupado = df_clientes.groupby('Rango_edad')['Gasto_mensual'].mean()\n"
     ]
    }
   ],
   "source": [
    "# Agrupa los clientes por rangos de edad y calcula el gasto promedio (investiga el método cut)\n",
    "\n",
    "# Definimos los rangos de edad\n",
    "bins = [20, 30, 40, 50, 60, 70]  # Ajusta los bins según tus necesidades\n",
    "labels = ['20-29', '30-39', '40-49', '50-59', '60+']\n",
    "\n",
    "# Creamos una nueva columna 'Rango_edad' utilizando el método cut\n",
    "df_clientes['Rango_edad'] = pd.cut(df_clientes['Edad'], bins=bins, labels=labels)\n",
    "\n",
    "# Agrupamos por 'Rango_edad' y calculamos el gasto promedio\n",
    "df_agrupado = df_clientes.groupby('Rango_edad')['Gasto_mensual'].mean()\n",
    "\n",
    "print(df_agrupado)"
   ]
  },
  {
   "cell_type": "code",
   "execution_count": 31,
   "metadata": {},
   "outputs": [],
   "source": [
    "#Ejercicio 3: Optimización de Inventarios\n",
    "#El departamento de operaciones necesita tu ayuda para ajustar los niveles de inventario basados en las ventas anuales y la rotación de productos.\n",
    "\n",
    "data_inventario = {\n",
    "    'Producto': ['Laptop', 'Mouse', 'Teclado', 'Monitor'],\n",
    "    'Inventario_actual': [200, 1500, 800, 150],\n",
    "    'Ventas_anuales': [600, 1800, 900, 300]\n",
    "}\n",
    "\n",
    "df_inventario = pd.DataFrame(data_inventario)\n"
   ]
  },
  {
   "cell_type": "code",
   "execution_count": 32,
   "metadata": {},
   "outputs": [
    {
     "name": "stdout",
     "output_type": "stream",
     "text": [
      "  Producto  Inventario_actual  Ventas_anuales    ROI\n",
      "0   Laptop                200             600  3.000\n",
      "1    Mouse               1500            1800  1.200\n",
      "2  Teclado                800             900  1.125\n",
      "3  Monitor                150             300  2.000\n"
     ]
    }
   ],
   "source": [
    "# Calcula la tasa de rotación de inventario\n",
    "\n",
    "df_inventario['ROI'] = df_inventario['Ventas_anuales'] / df_inventario['Inventario_actual']\n",
    "\n",
    "print(df_inventario)"
   ]
  },
  {
   "cell_type": "code",
   "execution_count": 33,
   "metadata": {},
   "outputs": [],
   "source": [
    "# Ejercicio 4: Evaluación de Campañas de Marketing\n",
    "\n",
    "data_campañas = {\n",
    "    'Campaña': ['A', 'B', 'C', 'D'],\n",
    "    'Alcance': [1000, 3000, 2000, 5000],\n",
    "    'Conversiones': [50, 150, 100, 200],\n",
    "    'Costo': [500, 1500, 1000, 2500]\n",
    "}\n",
    "\n",
    "df_campañas = pd.DataFrame(data_campañas)"
   ]
  },
  {
   "cell_type": "code",
   "execution_count": 34,
   "metadata": {},
   "outputs": [
    {
     "name": "stdout",
     "output_type": "stream",
     "text": [
      "  Campaña  Alcance  Conversiones  Costo  ROI\n",
      "0       A     1000            50    500  9.0\n",
      "1       B     3000           150   1500  9.0\n",
      "2       C     2000           100   1000  9.0\n",
      "3       D     5000           200   2500  7.0\n"
     ]
    }
   ],
   "source": [
    "# Calcular el ROI\n",
    "precio_por_conversion = 100\n",
    "df_campañas['ROI'] = (df_campañas['Conversiones'] * precio_por_conversion - df_campañas['Costo']) / df_campañas['Costo']\n",
    "\n",
    "# Mostrar el DataFrame con ROI calculado\n",
    "resultados_roi = df_campañas[['Campaña', 'Alcance', 'Conversiones', 'Costo', 'ROI']]\n",
    "\n",
    "print(resultados_roi)"
   ]
  },
  {
   "cell_type": "code",
   "execution_count": 36,
   "metadata": {},
   "outputs": [
    {
     "name": "stdout",
     "output_type": "stream",
     "text": [
      "     Producto  Enero  Febrero\n",
      "0      Laptop    100      110\n",
      "1  Smartphone    150      120\n",
      "2      Tablet    200      180\n"
     ]
    }
   ],
   "source": [
    "# Ejercicio 6 (Investigación): Uso del método melt en Pandas\n",
    "data_ventas = {\n",
    "    'Producto': ['Laptop', 'Smartphone', 'Tablet'],\n",
    "    'Enero': [100, 150, 200],\n",
    "    'Febrero': [110, 120, 180]\n",
    "}\n",
    "\n",
    "df_ventas = pd.DataFrame(data_ventas)\n",
    "\n",
    "print(df_ventas)\n",
    "\n"
   ]
  }
 ],
 "metadata": {
  "kernelspec": {
   "display_name": "Python 3",
   "language": "python",
   "name": "python3"
  },
  "language_info": {
   "codemirror_mode": {
    "name": "ipython",
    "version": 3
   },
   "file_extension": ".py",
   "mimetype": "text/x-python",
   "name": "python",
   "nbconvert_exporter": "python",
   "pygments_lexer": "ipython3",
   "version": "3.12.6"
  }
 },
 "nbformat": 4,
 "nbformat_minor": 2
}
