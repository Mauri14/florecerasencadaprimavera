{
 "cells": [
  {
   "cell_type": "code",
   "execution_count": 352,
   "metadata": {},
   "outputs": [
    {
     "name": "stdout",
     "output_type": "stream",
     "text": [
      "     Producto  Precio            Categoría\n",
      "0        Café     100    bebidas calientes\n",
      "1          té      80    bebidas calientes\n",
      "2   chocolate     150        snacks dulces\n",
      "3      Cacao      120   bebidas calientes \n"
     ]
    }
   ],
   "source": [
    "# PRACTICO 4\n",
    "\n",
    "# Ejercicio 1: Limpiar y transofrmar columnas de texto\n",
    "\n",
    "import pandas as pd\n",
    "\n",
    "data = {\n",
    "    'Producto': ['Café', 'té', ' chocolate', ' Cacao '],\n",
    "    'Precio': [100, 80, 150, 120],\n",
    "    'Categoría': ['bebidas calientes', 'bebidas calientes', 'snacks dulces', ' bebidas calientes ']\n",
    "}\n",
    "\n",
    "df_productos = pd.DataFrame(data)\n",
    "print(df_productos)"
   ]
  },
  {
   "cell_type": "code",
   "execution_count": 353,
   "metadata": {},
   "outputs": [
    {
     "name": "stdout",
     "output_type": "stream",
     "text": [
      "    Producto  Precio         Categoría\n",
      "0       Café     100  bebidascalientes\n",
      "1         té      80  bebidascalientes\n",
      "2  chocolate     150      snacksdulces\n",
      "3      Cacao     120  bebidascalientes\n"
     ]
    }
   ],
   "source": [
    "# Elimino espacios en blanco de columna producto\n",
    "\n",
    "df_productos = df_productos.replace(' ', '', regex=True)\n",
    "\n",
    "print(df_productos)"
   ]
  },
  {
   "cell_type": "code",
   "execution_count": 354,
   "metadata": {},
   "outputs": [
    {
     "data": {
      "text/html": [
       "<div>\n",
       "<style scoped>\n",
       "    .dataframe tbody tr th:only-of-type {\n",
       "        vertical-align: middle;\n",
       "    }\n",
       "\n",
       "    .dataframe tbody tr th {\n",
       "        vertical-align: top;\n",
       "    }\n",
       "\n",
       "    .dataframe thead th {\n",
       "        text-align: right;\n",
       "    }\n",
       "</style>\n",
       "<table border=\"1\" class=\"dataframe\">\n",
       "  <thead>\n",
       "    <tr style=\"text-align: right;\">\n",
       "      <th></th>\n",
       "      <th>Producto</th>\n",
       "      <th>Precio</th>\n",
       "      <th>Categoría</th>\n",
       "    </tr>\n",
       "  </thead>\n",
       "  <tbody>\n",
       "    <tr>\n",
       "      <th>0</th>\n",
       "      <td>Café</td>\n",
       "      <td>100</td>\n",
       "      <td>BEBIDASCALIENTES</td>\n",
       "    </tr>\n",
       "    <tr>\n",
       "      <th>1</th>\n",
       "      <td>té</td>\n",
       "      <td>80</td>\n",
       "      <td>BEBIDASCALIENTES</td>\n",
       "    </tr>\n",
       "    <tr>\n",
       "      <th>2</th>\n",
       "      <td>chocolate</td>\n",
       "      <td>150</td>\n",
       "      <td>SNACKSDULCES</td>\n",
       "    </tr>\n",
       "    <tr>\n",
       "      <th>3</th>\n",
       "      <td>Cacao</td>\n",
       "      <td>120</td>\n",
       "      <td>BEBIDASCALIENTES</td>\n",
       "    </tr>\n",
       "  </tbody>\n",
       "</table>\n",
       "</div>"
      ],
      "text/plain": [
       "    Producto  Precio         Categoría\n",
       "0       Café     100  BEBIDASCALIENTES\n",
       "1         té      80  BEBIDASCALIENTES\n",
       "2  chocolate     150      SNACKSDULCES\n",
       "3      Cacao     120  BEBIDASCALIENTES"
      ]
     },
     "execution_count": 354,
     "metadata": {},
     "output_type": "execute_result"
    }
   ],
   "source": [
    "# Convierte todos los valores de la columna Categoría a mayúsculas.\n",
    "\n",
    "df_productos['Categoría'] = df_productos['Categoría'].str.upper()\n",
    "df_productos"
   ]
  },
  {
   "cell_type": "code",
   "execution_count": 355,
   "metadata": {},
   "outputs": [
    {
     "name": "stdout",
     "output_type": "stream",
     "text": [
      "    Producto  Precio         Categoría\n",
      "0       Café     100  BEBIDASCALIENTES\n",
      "1         té      80  BEBIDASCALIENTES\n",
      "2  chocolate     150           POSTRES\n",
      "3      Cacao     120  BEBIDASCALIENTES\n"
     ]
    }
   ],
   "source": [
    "# Reemplaza la categoría 'snacks dulces' por 'postres'.\n",
    "\n",
    "df_productos['Categoría'] = df_productos['Categoría'].replace('SNACKSDULCES', 'POSTRES', regex=True)\n",
    "\n",
    "print(df_productos)"
   ]
  },
  {
   "cell_type": "code",
   "execution_count": 356,
   "metadata": {},
   "outputs": [
    {
     "data": {
      "text/html": [
       "<div>\n",
       "<style scoped>\n",
       "    .dataframe tbody tr th:only-of-type {\n",
       "        vertical-align: middle;\n",
       "    }\n",
       "\n",
       "    .dataframe tbody tr th {\n",
       "        vertical-align: top;\n",
       "    }\n",
       "\n",
       "    .dataframe thead th {\n",
       "        text-align: right;\n",
       "    }\n",
       "</style>\n",
       "<table border=\"1\" class=\"dataframe\">\n",
       "  <thead>\n",
       "    <tr style=\"text-align: right;\">\n",
       "      <th></th>\n",
       "      <th>Producto</th>\n",
       "      <th>Precio</th>\n",
       "      <th>Categoría</th>\n",
       "      <th>PrecioMayorIgual120</th>\n",
       "    </tr>\n",
       "  </thead>\n",
       "  <tbody>\n",
       "    <tr>\n",
       "      <th>0</th>\n",
       "      <td>Café</td>\n",
       "      <td>100</td>\n",
       "      <td>BEBIDASCALIENTES</td>\n",
       "      <td>False</td>\n",
       "    </tr>\n",
       "    <tr>\n",
       "      <th>1</th>\n",
       "      <td>té</td>\n",
       "      <td>80</td>\n",
       "      <td>BEBIDASCALIENTES</td>\n",
       "      <td>False</td>\n",
       "    </tr>\n",
       "    <tr>\n",
       "      <th>2</th>\n",
       "      <td>chocolate</td>\n",
       "      <td>150</td>\n",
       "      <td>POSTRES</td>\n",
       "      <td>True</td>\n",
       "    </tr>\n",
       "    <tr>\n",
       "      <th>3</th>\n",
       "      <td>Cacao</td>\n",
       "      <td>120</td>\n",
       "      <td>BEBIDASCALIENTES</td>\n",
       "      <td>True</td>\n",
       "    </tr>\n",
       "  </tbody>\n",
       "</table>\n",
       "</div>"
      ],
      "text/plain": [
       "    Producto  Precio         Categoría  PrecioMayorIgual120\n",
       "0       Café     100  BEBIDASCALIENTES                False\n",
       "1         té      80  BEBIDASCALIENTES                False\n",
       "2  chocolate     150           POSTRES                 True\n",
       "3      Cacao     120  BEBIDASCALIENTES                 True"
      ]
     },
     "execution_count": 356,
     "metadata": {},
     "output_type": "execute_result"
    }
   ],
   "source": [
    "# Crea una nueva columna que indique si el precio es mayor o igual a 120. Usa una función lambda para esto.\n",
    "\n",
    "#df_productos['Precio'] = df_productos['Mascara1'].apply(lambda x: True if x >= 120 else False)\n",
    "\n",
    "df_productos['PrecioMayorIgual120'] = df_productos['Precio'].apply(lambda x: True if x >= 120 else False)\n",
    "df_productos\n",
    "\n"
   ]
  },
  {
   "cell_type": "code",
   "execution_count": 357,
   "metadata": {},
   "outputs": [
    {
     "name": "stdout",
     "output_type": "stream",
     "text": [
      "  Nombre  Edad Departamento\n",
      "0    Ana  29.0       Ventas\n",
      "1   Luis  45.0     Finanzas\n",
      "2  Pedro   NaN         RRHH\n",
      "3   Luis  40.0     Finanzas\n",
      "4   Juan  35.0    Marketing\n",
      "5    Ana  29.0         None\n"
     ]
    }
   ],
   "source": [
    "# EJERCICIO 2\n",
    "data_empleados = {\n",
    "    'Nombre': ['Ana', 'Luis', 'Pedro', 'Luis', 'Juan', 'Ana'],\n",
    "    'Edad': [29, 45, None, 40, 35, 29],\n",
    "    'Departamento': ['Ventas', 'Finanzas', 'RRHH', 'Finanzas', 'Marketing', None]\n",
    "}\n",
    "\n",
    "df_empleados = pd.DataFrame(data_empleados)\n",
    "print(df_empleados)"
   ]
  },
  {
   "cell_type": "code",
   "execution_count": 358,
   "metadata": {},
   "outputs": [
    {
     "name": "stdout",
     "output_type": "stream",
     "text": [
      "  Nombre  Edad Departamento\n",
      "0    Ana  29.0       Ventas\n"
     ]
    }
   ],
   "source": [
    "# Elimina las filas duplicadas en base a la columna Nombre. Quédate con la persona `más joven´.\n",
    "\n",
    "df_empleados_2 = df_empleados.drop_duplicates(subset='Nombre')\n",
    "\n",
    "df_empleados_2 = df_empleados_2.sort_values(by='Edad', ascending=True)\n",
    "\n",
    "df_empleados_joven = df_empleados_2.head(1)\n",
    "\n",
    "print(df_empleados_joven)\n"
   ]
  },
  {
   "cell_type": "code",
   "execution_count": 359,
   "metadata": {},
   "outputs": [
    {
     "name": "stdout",
     "output_type": "stream",
     "text": [
      "  Nombre  Edad Departamento\n",
      "0    Ana  29.0       Ventas\n",
      "4   Juan  35.0    Marketing\n",
      "1   Luis  45.0     Finanzas\n",
      "2  Pedro  36.0         RRHH\n"
     ]
    }
   ],
   "source": [
    "# Llena los valores faltantes de la columna Edad con la media de las edades.\n",
    "\n",
    "edad_media = df_empleados_2['Edad'].mean()\n",
    "df_empleados_2['Edad'] = df_empleados_2['Edad'].fillna(edad_media).round()\n",
    "df_empleados_2\n",
    "\n",
    "print(df_empleados_2)"
   ]
  },
  {
   "cell_type": "code",
   "execution_count": 360,
   "metadata": {},
   "outputs": [
    {
     "name": "stdout",
     "output_type": "stream",
     "text": [
      "  Nombre  Edad Departamento\n",
      "0    Ana  29.0       Ventas\n",
      "1   Luis  45.0     Finanzas\n",
      "2  Pedro   NaN         RRHH\n",
      "3   Luis  40.0     Finanzas\n",
      "4   Juan  35.0    Marketing\n",
      "5    Ana  29.0  Desconocido\n"
     ]
    }
   ],
   "source": [
    "# Llena los valores faltantes de la columna Departamento con el valor 'Desconocido'\n",
    "\n",
    "df_empleados['Departamento'] = df_empleados['Departamento'].fillna(\"Desconocido\")\n",
    "\n",
    "print(df_empleados)"
   ]
  },
  {
   "cell_type": "code",
   "execution_count": 361,
   "metadata": {},
   "outputs": [
    {
     "name": "stdout",
     "output_type": "stream",
     "text": [
      "  Nombre  Edad Departamento\n",
      "1   Luis  45.0     Finanzas\n",
      "3   Luis  40.0     Finanzas\n",
      "4   Juan  35.0    Marketing\n",
      "0    Ana  29.0       Ventas\n",
      "5    Ana  29.0  Desconocido\n",
      "2  Pedro   NaN         RRHH\n"
     ]
    }
   ],
   "source": [
    "# Ordena el DataFrame por edad de forma descendente.\n",
    "\n",
    "df_empleados = df_empleados.sort_values(by='Edad', ascending=False)\n",
    "\n",
    "print(df_empleados)"
   ]
  },
  {
   "cell_type": "code",
   "execution_count": 362,
   "metadata": {},
   "outputs": [
    {
     "name": "stdout",
     "output_type": "stream",
     "text": [
      "  Producto  Precio  Cantidad\n",
      "0     Café     120         3\n",
      "1       Té      80         5\n",
      "2     Jugo      90         2\n",
      "3     Agua      60         8\n"
     ]
    }
   ],
   "source": [
    "# Ejercicio 3: Aplicar funciones a las columnas\n",
    "\n",
    "data_ventas = {\n",
    "    'Producto': ['Café', 'Té', 'Jugo', 'Agua'],\n",
    "    'Precio': [120, 80, 90, 60],\n",
    "    'Cantidad': [3, 5, 2, 8]\n",
    "}\n",
    "\n",
    "df_ventas = pd.DataFrame(data_ventas)\n",
    "\n",
    "print(df_ventas)\n"
   ]
  },
  {
   "cell_type": "code",
   "execution_count": 363,
   "metadata": {},
   "outputs": [
    {
     "name": "stdout",
     "output_type": "stream",
     "text": [
      "  Producto  Precio  Cantidad  Total de ventas\n",
      "0     Café     120         3              360\n",
      "1       Té      80         5              400\n",
      "2     Jugo      90         2              180\n",
      "3     Agua      60         8              480\n"
     ]
    }
   ],
   "source": [
    "# Calcula el total de ventas (Precio * Cantidad) y agrégalo como una nueva columna.\n",
    "\n",
    "df_ventas = pd.DataFrame(data_ventas)\n",
    "df_ventas['Total de ventas'] = df_ventas['Precio'] * df_ventas['Cantidad']\n",
    "\n",
    "print(df_ventas)\n"
   ]
  },
  {
   "cell_type": "code",
   "execution_count": 364,
   "metadata": {},
   "outputs": [
    {
     "name": "stdout",
     "output_type": "stream",
     "text": [
      "  Producto  Precio  Cantidad  Total de ventas  Precio_con_descuento\n",
      "0     Café     120         3              360                 108.0\n",
      "1       Té      80         5              400                  76.0\n",
      "2     Jugo      90         2              180                  85.5\n",
      "3     Agua      60         8              480                  57.0\n"
     ]
    }
   ],
   "source": [
    "# Crea una nueva columna llamada Descuento que aplique un descuento del 10% si el precio es mayor a 100, y del 5% si es menor o igual a 100. Usa la función apply y una funció\n",
    "\n",
    "df_ventas['Precio_con_descuento'] = df_ventas['Precio'].apply(lambda x: x * 0.9 if x > 100 else x * 0.95)\n",
    "\n",
    "print(df_ventas)"
   ]
  },
  {
   "cell_type": "code",
   "execution_count": 365,
   "metadata": {},
   "outputs": [
    {
     "name": "stdout",
     "output_type": "stream",
     "text": [
      "       Cliente           Dirección\n",
      "0   Juan Pérez     calle falsa 123\n",
      "1     Ana Ruiz  Calle PRINCIPAL 45\n",
      "2  Pedro López   AV. LOS robles 34\n"
     ]
    }
   ],
   "source": [
    "# Ejercicio 4: Uso de funciones de cadena\n",
    "\n",
    "# Dado el siguiente DataFrame de direcciones de clientes:\n",
    "\n",
    "data_clientes = {\n",
    "    'Cliente': ['Juan Pérez', 'Ana Ruiz', 'Pedro López'],\n",
    "    'Dirección': ['calle falsa 123', 'Calle PRINCIPAL 45', 'AV. LOS robles 34']\n",
    "}\n",
    "\n",
    "df_clientes = pd.DataFrame(data_clientes)\n",
    "\n",
    "print(df_clientes)"
   ]
  },
  {
   "cell_type": "code",
   "execution_count": 367,
   "metadata": {},
   "outputs": [
    {
     "name": "stdout",
     "output_type": "stream",
     "text": [
      "{'Cliente': ['Juan Pérez', 'Ana Ruiz', 'Pedro López'], 'Dirección': ['calle falsa 123', 'calle principal 45', 'av. los robles 34']}\n"
     ]
    }
   ],
   "source": [
    "# Convierte todos los valores de la columna Dirección a minúsculas.\n",
    "\n",
    "data_clientes['Dirección'] = [direccion.lower() for direccion in data_clientes['Dirección']]\n",
    "\n",
    "print(data_clientes)\n",
    "\n"
   ]
  },
  {
   "cell_type": "code",
   "execution_count": 369,
   "metadata": {},
   "outputs": [
    {
     "name": "stdout",
     "output_type": "stream",
     "text": [
      "{'Cliente': ['Juan Pérez', 'Ana Ruiz', 'Pedro López'], 'Dirección': ['Calle falsa 123', 'Calle principal 45', 'Avenida los robles 34']}\n"
     ]
    }
   ],
   "source": [
    "# Reemplaza las abreviaturas \"calle\", \"av.\" por \"calle\" y \"avenida\" respectivamente.\n",
    "\n",
    "# Assuming data_clientes['Dirección'] is a list of strings\n",
    "data_clientes['Dirección'] = [direccion.replace('av.', 'Avenida').replace('calle', 'Calle') for direccion in data_clientes['Dirección']]\n",
    "\n",
    "print(data_clientes)\n"
   ]
  },
  {
   "cell_type": "code",
   "execution_count": 371,
   "metadata": {},
   "outputs": [
    {
     "name": "stdout",
     "output_type": "stream",
     "text": [
      "             Dirección Número\n",
      "0     av. 1234 Main St   1234\n",
      "1    calle 5678 Elm St   5678\n",
      "2  Avenida 9101 Oak St   9101\n"
     ]
    },
    {
     "name": "stderr",
     "output_type": "stream",
     "text": [
      "<>:11: SyntaxWarning: invalid escape sequence '\\d'\n",
      "<>:11: SyntaxWarning: invalid escape sequence '\\d'\n",
      "C:\\Users\\Asus\\AppData\\Local\\Temp\\ipykernel_2876\\2783994386.py:11: SyntaxWarning: invalid escape sequence '\\d'\n",
      "  data_clientes['Número'] = data_clientes['Dirección'].str.extract('(\\d+)')\n"
     ]
    }
   ],
   "source": [
    "# Extrae el número de la dirección y guárdalo en una nueva columna llamada Número.\n",
    "\n",
    "data_clientes = pd.DataFrame({\n",
    "    'Dirección': [\n",
    "        'av. 1234 Main St',\n",
    "        'calle 5678 Elm St',\n",
    "        'Avenida 9101 Oak St'\n",
    "    ]\n",
    "})\n",
    "\n",
    "data_clientes['Número'] = data_clientes['Dirección'].str.extract('(\\d+)')\n",
    "\n",
    "print(data_clientes)"
   ]
  }
 ],
 "metadata": {
  "kernelspec": {
   "display_name": "Python 3",
   "language": "python",
   "name": "python3"
  },
  "language_info": {
   "codemirror_mode": {
    "name": "ipython",
    "version": 3
   },
   "file_extension": ".py",
   "mimetype": "text/x-python",
   "name": "python",
   "nbconvert_exporter": "python",
   "pygments_lexer": "ipython3",
   "version": "3.12.6"
  }
 },
 "nbformat": 4,
 "nbformat_minor": 2
}
