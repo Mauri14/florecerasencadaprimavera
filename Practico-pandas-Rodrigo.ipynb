{
 "cells": [
  {
   "cell_type": "markdown",
   "metadata": {},
   "source": [
    "#### **Ejercicio 1: Creación y manipulación de Series**\n",
    "1. Crea una Serie que contenga las ventas de una tienda de lunes a viernes. Utiliza las siguientes cantidades:\n",
    "   - Lunes: 100\n",
    "   - Martes: 150\n",
    "   - Miércoles: 200\n",
    "   - Jueves: 50\n",
    "   - Viernes: 300\n",
    "   \n",
    "2. Realiza las siguientes operaciones sobre la Serie:\n",
    "   - Accede al valor de las ventas del miércoles.\n",
    "   - Calcula el total de ventas de la semana.\n",
    "   - Filtra los días donde las ventas fueron mayores a 100."
   ]
  },
  {
   "cell_type": "code",
   "execution_count": 12,
   "metadata": {},
   "outputs": [
    {
     "name": "stdout",
     "output_type": "stream",
     "text": [
      "200\n"
     ]
    }
   ],
   "source": [
    "import pandas as pd\n",
    "\n",
    "Serie = pd.Series ({'Lunes': 100, 'Martes': 150, 'Miercoles': 200, 'Jueves': 50, 'Viernes': 300})\n",
    "\n",
    "print(Serie['Miercoles'])\n"
   ]
  },
  {
   "cell_type": "code",
   "execution_count": 7,
   "metadata": {},
   "outputs": [
    {
     "name": "stdout",
     "output_type": "stream",
     "text": [
      "800\n"
     ]
    }
   ],
   "source": [
    "# Total de ventas de la semana\n",
    "\n",
    "suma = print(Serie.sum())"
   ]
  },
  {
   "cell_type": "code",
   "execution_count": 8,
   "metadata": {},
   "outputs": [
    {
     "name": "stdout",
     "output_type": "stream",
     "text": [
      "Martes       150\n",
      "Miercoles    200\n",
      "Viernes      300\n",
      "dtype: int64\n"
     ]
    }
   ],
   "source": [
    "# Filtro días donde ventas fueron mayores a 100\n",
    "\n",
    "print(Serie[Serie > 100])"
   ]
  },
  {
   "cell_type": "code",
   "execution_count": 9,
   "metadata": {},
   "outputs": [],
   "source": [
    "# Ejercicio 2\n",
    "# Creo un dataframe\n",
    "\n",
    "dataFrame = {'Nombre': ['Ana', 'Luis', 'María'], 'Edad': [23, 35, 29]}  \n",
    "dataFrame = pd.DataFrame(dataFrame, columns=['Nombre', 'Edad'])"
   ]
  },
  {
   "cell_type": "code",
   "execution_count": 11,
   "metadata": {},
   "outputs": [
    {
     "name": "stdout",
     "output_type": "stream",
     "text": [
      "0      Ana\n",
      "1     Luis\n",
      "2    María\n",
      "Name: Nombre, dtype: object\n",
      "  Nombre  Edad\n",
      "1   Luis    35\n",
      "2  María    29\n"
     ]
    }
   ],
   "source": [
    "\n",
    "# Accedo a la columna\n",
    "\n",
    "print(dataFrame['Nombre'])\n",
    "\n",
    "# Filtro valores\n",
    "\n",
    "print(dataFrame[dataFrame['Edad'] > 25])"
   ]
  },
  {
   "cell_type": "markdown",
   "metadata": {},
   "source": [
    "#### **Ejercicio 3: Cálculos con DataFrames**\n",
    "1. Crea un DataFrame con información de ventas de productos en una tienda:\n",
    "   - Productos: \"Laptop\", \"Mouse\", \"Teclado\"\n",
    "   - Ventas: 30, 120, 75\n",
    "   - Precio por unidad: 1000, 50, 80\n",
    "\n",
    "2. Calcula:\n",
    "   - La venta total para cada producto (multiplicando el precio por unidad por las ventas).\n",
    "   - El total de ingresos para todos los productos."
   ]
  },
  {
   "cell_type": "code",
   "execution_count": 13,
   "metadata": {},
   "outputs": [],
   "source": [
    "# Ejercicio 3\n",
    "# Creo un dataframe\n",
    "\n",
    "dataFrame2 = {'Productos': ['Laptop', 'Mouse', 'Teclado'], 'Ventas': [30, 120, 75], 'Precio por unidad': [1000, 50, 80], }  \n",
    "dataFrame2 = pd.DataFrame(dataFrame2, columns=['Productos', 'Ventas', 'Precio por unidad'])"
   ]
  },
  {
   "cell_type": "code",
   "execution_count": 14,
   "metadata": {},
   "outputs": [
    {
     "name": "stdout",
     "output_type": "stream",
     "text": [
      "  Productos  Ventas  Precio por unidad  Venta total\n",
      "0    Laptop      30               1000        30000\n",
      "1     Mouse     120                 50         6000\n",
      "2   Teclado      75                 80         6000\n"
     ]
    }
   ],
   "source": [
    "dataFrame2['Venta total'] = dataFrame2['Ventas'] * dataFrame2['Precio por unidad']\n",
    "\n",
    "print(dataFrame2)"
   ]
  },
  {
   "cell_type": "code",
   "execution_count": 15,
   "metadata": {},
   "outputs": [
    {
     "name": "stdout",
     "output_type": "stream",
     "text": [
      "42000\n"
     ]
    }
   ],
   "source": [
    "# Suma de ventas de todos los productos\n",
    "\n",
    "sumaProductos = dataFrame2['Venta total'].sum()\n",
    "print(sumaProductos)"
   ]
  },
  {
   "cell_type": "markdown",
   "metadata": {},
   "source": [
    "Ejercicio 4: Transformación y limpieza de datos en DataFrames\n",
    "Crea un DataFrame con información de estudiantes y sus calificaciones en tres materias:\n",
    "\n",
    "Estudiantes: \"Ana\", \"Luis\", \"María\", \"Carlos\"\n",
    "Matemáticas: 90, 85, None, 78\n",
    "Ciencia: 88, 92, 85, None\n",
    "Historia: 75, None, 80, 90\n",
    "Realiza las siguientes operaciones:\n",
    "\n",
    "Rellena los valores faltantes con la media de cada columna.\n",
    "Renombra las columnas de las materias en inglés (Math, Science, History).\n",
    "Calcula la calificación promedio de cada estudiante."
   ]
  },
  {
   "cell_type": "code",
   "execution_count": 17,
   "metadata": {},
   "outputs": [
    {
     "name": "stdout",
     "output_type": "stream",
     "text": [
      "  Estudiante  Matemáticas  Ciencia  Historia\n",
      "0        Ana         90.0     88.0      75.0\n",
      "1       Luis         85.0     92.0       NaN\n",
      "2      María          NaN     85.0      80.0\n",
      "3     Carlos         78.0      NaN      90.0\n"
     ]
    }
   ],
   "source": [
    "# Ejecicio 4\n",
    "# Datos de los estudiantes y sus calificaciones\n",
    "data = {\n",
    "    'Estudiante': ['Ana', 'Luis', 'María', 'Carlos'],\n",
    "    'Matemáticas': [90, 85, None, 78],\n",
    "    'Ciencia': [88, 92, 85, None],\n",
    "    'Historia': [75, None, 80, 90]\n",
    "}\n",
    "\n",
    "# Creación del DataFrame\n",
    "df_estudiantes = pd.DataFrame(data)\n",
    "\n",
    "# Mostrar el DataFrame\n",
    "print(df_estudiantes)\n"
   ]
  },
  {
   "cell_type": "code",
   "execution_count": 21,
   "metadata": {},
   "outputs": [
    {
     "name": "stdout",
     "output_type": "stream",
     "text": [
      "  Estudiante  Matemáticas    Ciencia   Historia  Media_Matemáticas  \\\n",
      "0        Ana    90.000000  88.000000  75.000000          84.333333   \n",
      "1       Luis    85.000000  92.000000  81.666667          84.333333   \n",
      "2      María    84.333333  85.000000  80.000000          84.333333   \n",
      "3     Carlos    78.000000  88.333333  90.000000          84.333333   \n",
      "\n",
      "   Media_Ciencia  Media_Historia  \n",
      "0      88.333333       81.666667  \n",
      "1      88.333333       81.666667  \n",
      "2      88.333333       81.666667  \n",
      "3      88.333333       81.666667  \n"
     ]
    },
    {
     "name": "stderr",
     "output_type": "stream",
     "text": [
      "C:\\Users\\Asus\\AppData\\Local\\Temp\\ipykernel_4864\\2887254437.py:9: FutureWarning: A value is trying to be set on a copy of a DataFrame or Series through chained assignment using an inplace method.\n",
      "The behavior will change in pandas 3.0. This inplace method will never work because the intermediate object on which we are setting values always behaves as a copy.\n",
      "\n",
      "For example, when doing 'df[col].method(value, inplace=True)', try using 'df.method({col: value}, inplace=True)' or df[col] = df[col].method(value) instead, to perform the operation inplace on the original object.\n",
      "\n",
      "\n",
      "  df_estudiantes['Matemáticas'].fillna(media_matematicas, inplace=True)\n",
      "C:\\Users\\Asus\\AppData\\Local\\Temp\\ipykernel_4864\\2887254437.py:10: FutureWarning: A value is trying to be set on a copy of a DataFrame or Series through chained assignment using an inplace method.\n",
      "The behavior will change in pandas 3.0. This inplace method will never work because the intermediate object on which we are setting values always behaves as a copy.\n",
      "\n",
      "For example, when doing 'df[col].method(value, inplace=True)', try using 'df.method({col: value}, inplace=True)' or df[col] = df[col].method(value) instead, to perform the operation inplace on the original object.\n",
      "\n",
      "\n",
      "  df_estudiantes['Ciencia'].fillna(media_ciencia, inplace=True)\n",
      "C:\\Users\\Asus\\AppData\\Local\\Temp\\ipykernel_4864\\2887254437.py:11: FutureWarning: A value is trying to be set on a copy of a DataFrame or Series through chained assignment using an inplace method.\n",
      "The behavior will change in pandas 3.0. This inplace method will never work because the intermediate object on which we are setting values always behaves as a copy.\n",
      "\n",
      "For example, when doing 'df[col].method(value, inplace=True)', try using 'df.method({col: value}, inplace=True)' or df[col] = df[col].method(value) instead, to perform the operation inplace on the original object.\n",
      "\n",
      "\n",
      "  df_estudiantes['Historia'].fillna(media_historia, inplace=True)\n"
     ]
    }
   ],
   "source": [
    "# Calculo la media para cada columna, para luego sustituir valores nan con medias\n",
    "\n",
    "# Calcular la media para cada columna\n",
    "media_matematicas = df_estudiantes['Matemáticas'].mean()\n",
    "media_ciencia = df_estudiantes['Ciencia'].mean()\n",
    "media_historia = df_estudiantes['Historia'].mean()\n",
    "\n",
    "# Sustituir valores NaN con las medias calculadas\n",
    "df_estudiantes['Matemáticas'].fillna(media_matematicas, inplace=True)\n",
    "df_estudiantes['Ciencia'].fillna(media_ciencia, inplace=True)\n",
    "df_estudiantes['Historia'].fillna(media_historia, inplace=True)\n",
    "\n",
    "# Si deseas agregar columnas nuevas con las medias (opcional)\n",
    "df_estudiantes['Media_Matemáticas'] = media_matematicas\n",
    "df_estudiantes['Media_Ciencia'] = media_ciencia\n",
    "df_estudiantes['Media_Historia'] = media_historia\n",
    "\n",
    "print(df_estudiantes)\n",
    "\n"
   ]
  },
  {
   "cell_type": "code",
   "execution_count": 23,
   "metadata": {},
   "outputs": [
    {
     "name": "stdout",
     "output_type": "stream",
     "text": [
      "  Estudiante  Matemáticas    Ciencia   Historia  Media_Matemáticas  \\\n",
      "0        Ana    90.000000  88.000000  75.000000          84.333333   \n",
      "1       Luis    85.000000  92.000000  81.666667          84.333333   \n",
      "2      María    84.333333  85.000000  80.000000          84.333333   \n",
      "3     Carlos    78.000000  88.333333  90.000000          84.333333   \n",
      "\n",
      "   Media_Ciencia  Media_Historia  \n",
      "0      88.333333       81.666667  \n",
      "1      88.333333       81.666667  \n",
      "2      88.333333       81.666667  \n",
      "3      88.333333       81.666667  \n"
     ]
    }
   ],
   "source": [
    "# Renombro los nombres de las variables\n",
    "\n",
    "df_estudiantes.rename(columns={\n",
    "    'Nombre': 'Name',\n",
    "    'Student': 'Estudiante',\n",
    "    'Math': 'Matemáticas',\n",
    "    'Science': 'Ciencia',\n",
    "    'History': 'Historia'\n",
    "}, inplace=True)\n",
    "\n",
    "# Printing the DataFrame after renaming\n",
    "print(df_estudiantes)"
   ]
  }
 ],
 "metadata": {
  "kernelspec": {
   "display_name": "entorno-python",
   "language": "python",
   "name": "python3"
  },
  "language_info": {
   "codemirror_mode": {
    "name": "ipython",
    "version": 3
   },
   "file_extension": ".py",
   "mimetype": "text/x-python",
   "name": "python",
   "nbconvert_exporter": "python",
   "pygments_lexer": "ipython3",
   "version": "3.12.6"
  }
 },
 "nbformat": 4,
 "nbformat_minor": 2
}
