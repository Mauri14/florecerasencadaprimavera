{
 "cells": [
  {
   "cell_type": "markdown",
   "metadata": {},
   "source": [
    "### **Ejercicio 1: Análisis de Rentabilidad de Productos**\n",
    "Supongamos que eres analista de datos en una empresa de comercio electrónico. Tienes un DataFrame que lista varios productos, sus costos, precios de venta y unidades vendidas durante el último mes. Realiza un análisis para identificar qué productos son más rentables.\n",
    "\n",
    "- Calcula la ganancia por producto y agrega una columna de rentabilidad\n",
    "- Ordena los productos por rentabilidad"
   ]
  },
  {
   "cell_type": "code",
   "execution_count": 16,
   "metadata": {},
   "outputs": [],
   "source": [
    "import pandas as pd\n",
    "\n",
    "data = {\n",
    "    'Producto': ['Computadora', 'Tablet', 'Smartphone', 'Auriculares', 'Cargador'],\n",
    "    'Costo': [500, 300, 200, 50, 20],\n",
    "    'Precio_venta': [1000, 500, 300, 100, 50],\n",
    "    'Unidades_vendidas': [30, 50, 70, 100, 150]\n",
    "}\n",
    "\n",
    "df_productos = pd.DataFrame(data)"
   ]
  },
  {
   "cell_type": "code",
   "execution_count": 17,
   "metadata": {},
   "outputs": [
    {
     "data": {
      "text/html": [
       "<div>\n",
       "<style scoped>\n",
       "    .dataframe tbody tr th:only-of-type {\n",
       "        vertical-align: middle;\n",
       "    }\n",
       "\n",
       "    .dataframe tbody tr th {\n",
       "        vertical-align: top;\n",
       "    }\n",
       "\n",
       "    .dataframe thead th {\n",
       "        text-align: right;\n",
       "    }\n",
       "</style>\n",
       "<table border=\"1\" class=\"dataframe\">\n",
       "  <thead>\n",
       "    <tr style=\"text-align: right;\">\n",
       "      <th></th>\n",
       "      <th>Producto</th>\n",
       "      <th>Costo</th>\n",
       "      <th>Precio_venta</th>\n",
       "      <th>Unidades_vendidas</th>\n",
       "      <th>Rentabilidad</th>\n",
       "    </tr>\n",
       "  </thead>\n",
       "  <tbody>\n",
       "    <tr>\n",
       "      <th>0</th>\n",
       "      <td>Computadora</td>\n",
       "      <td>500</td>\n",
       "      <td>1000</td>\n",
       "      <td>30</td>\n",
       "      <td>15000</td>\n",
       "    </tr>\n",
       "    <tr>\n",
       "      <th>1</th>\n",
       "      <td>Tablet</td>\n",
       "      <td>300</td>\n",
       "      <td>500</td>\n",
       "      <td>50</td>\n",
       "      <td>10000</td>\n",
       "    </tr>\n",
       "    <tr>\n",
       "      <th>2</th>\n",
       "      <td>Smartphone</td>\n",
       "      <td>200</td>\n",
       "      <td>300</td>\n",
       "      <td>70</td>\n",
       "      <td>7000</td>\n",
       "    </tr>\n",
       "    <tr>\n",
       "      <th>3</th>\n",
       "      <td>Auriculares</td>\n",
       "      <td>50</td>\n",
       "      <td>100</td>\n",
       "      <td>100</td>\n",
       "      <td>5000</td>\n",
       "    </tr>\n",
       "    <tr>\n",
       "      <th>4</th>\n",
       "      <td>Cargador</td>\n",
       "      <td>20</td>\n",
       "      <td>50</td>\n",
       "      <td>150</td>\n",
       "      <td>4500</td>\n",
       "    </tr>\n",
       "  </tbody>\n",
       "</table>\n",
       "</div>"
      ],
      "text/plain": [
       "      Producto  Costo  Precio_venta  Unidades_vendidas  Rentabilidad\n",
       "0  Computadora    500          1000                 30         15000\n",
       "1       Tablet    300           500                 50         10000\n",
       "2   Smartphone    200           300                 70          7000\n",
       "3  Auriculares     50           100                100          5000\n",
       "4     Cargador     20            50                150          4500"
      ]
     },
     "execution_count": 17,
     "metadata": {},
     "output_type": "execute_result"
    }
   ],
   "source": [
    "\n",
    "\n",
    "df_productos['Rentabilidad']=(df_productos['Precio_venta']-df_productos['Costo'])*df_productos['Unidades_vendidas']\n",
    "df_productos.sort_values(['Rentabilidad'], ascending=False)\n"
   ]
  },
  {
   "cell_type": "markdown",
   "metadata": {},
   "source": [
    "### **Ejercicio 2: Segmentación de Clientes por Edad y Consumo**\n",
    "Como analista de marketing en una cadena de tiendas, debes segmentar a los clientes en grupos de edad y analizar sus patrones de gasto para optimizar las campañas de marketing.\n",
    "\n",
    "- Agrupa los clientes por rangos de edad y calcula el gasto promedio (investiga el método `cut`)"
   ]
  },
  {
   "cell_type": "code",
   "execution_count": 35,
   "metadata": {},
   "outputs": [],
   "source": [
    "data_clientes = {\n",
    "    'Cliente': ['Ana', 'Luis', 'María', 'Carlos', 'Josefina'],\n",
    "    'Edad': [25, 35, 45, 55, 65],\n",
    "    'Gasto_mensual': [200, 400, 600, 800, 1000]\n",
    "}\n",
    "\n",
    "df_clientes = pd.DataFrame(data_clientes)"
   ]
  },
  {
   "cell_type": "code",
   "execution_count": 38,
   "metadata": {},
   "outputs": [
    {
     "name": "stderr",
     "output_type": "stream",
     "text": [
      "C:\\Users\\oh271\\AppData\\Local\\Temp\\ipykernel_17176\\1761233177.py:3: FutureWarning: The default of observed=False is deprecated and will be changed to True in a future version of pandas. Pass observed=False to retain current behavior or observed=True to adopt the future default and silence this warning.\n",
      "  df_clientes = df_clientes.groupby('Tramos de edad')['Gasto_mensual'].mean()\n"
     ]
    },
    {
     "data": {
      "text/plain": [
       "Tramos de edad\n",
       "(24.96, 38.333]     300.0\n",
       "(38.333, 51.667]    600.0\n",
       "(51.667, 65.0]      900.0\n",
       "Name: Gasto_mensual, dtype: float64"
      ]
     },
     "execution_count": 38,
     "metadata": {},
     "output_type": "execute_result"
    }
   ],
   "source": [
    "#df_clientes.head()\n",
    "df_clientes['Tramos de edad']=pd.cut(df_clientes['Edad'], bins=3)\n",
    "df_clientes = df_clientes.groupby('Tramos de edad')['Gasto_mensual'].mean()\n",
    "df_clientes"
   ]
  },
  {
   "cell_type": "markdown",
   "metadata": {},
   "source": [
    "### **Ejercicio 3: Optimización de Inventarios**\n",
    "El departamento de operaciones necesita tu ayuda para ajustar los niveles de inventario basados en las ventas anuales y la rotación de productos.\n",
    "\n",
    "- Calcula la tasa de rotación de inventario"
   ]
  },
  {
   "cell_type": "code",
   "execution_count": 39,
   "metadata": {},
   "outputs": [],
   "source": [
    "data_inventario = {\n",
    "    'Producto': ['Laptop', 'Mouse', 'Teclado', 'Monitor'],\n",
    "    'Inventario_actual': [200, 1500, 800, 150],\n",
    "    'Ventas_anuales': [600, 1800, 900, 300]\n",
    "}\n",
    "\n",
    "df_inventario = pd.DataFrame(data_inventario)"
   ]
  },
  {
   "cell_type": "code",
   "execution_count": 46,
   "metadata": {},
   "outputs": [
    {
     "data": {
      "text/html": [
       "<div>\n",
       "<style scoped>\n",
       "    .dataframe tbody tr th:only-of-type {\n",
       "        vertical-align: middle;\n",
       "    }\n",
       "\n",
       "    .dataframe tbody tr th {\n",
       "        vertical-align: top;\n",
       "    }\n",
       "\n",
       "    .dataframe thead th {\n",
       "        text-align: right;\n",
       "    }\n",
       "</style>\n",
       "<table border=\"1\" class=\"dataframe\">\n",
       "  <thead>\n",
       "    <tr style=\"text-align: right;\">\n",
       "      <th></th>\n",
       "      <th>Producto</th>\n",
       "      <th>Inventario_actual</th>\n",
       "      <th>Ventas_anuales</th>\n",
       "      <th>Tasa de Rotacion</th>\n",
       "    </tr>\n",
       "  </thead>\n",
       "  <tbody>\n",
       "    <tr>\n",
       "      <th>0</th>\n",
       "      <td>Laptop</td>\n",
       "      <td>200</td>\n",
       "      <td>600</td>\n",
       "      <td>3.0</td>\n",
       "    </tr>\n",
       "    <tr>\n",
       "      <th>1</th>\n",
       "      <td>Mouse</td>\n",
       "      <td>1500</td>\n",
       "      <td>1800</td>\n",
       "      <td>1.2</td>\n",
       "    </tr>\n",
       "    <tr>\n",
       "      <th>2</th>\n",
       "      <td>Teclado</td>\n",
       "      <td>800</td>\n",
       "      <td>900</td>\n",
       "      <td>1.1</td>\n",
       "    </tr>\n",
       "    <tr>\n",
       "      <th>3</th>\n",
       "      <td>Monitor</td>\n",
       "      <td>150</td>\n",
       "      <td>300</td>\n",
       "      <td>2.0</td>\n",
       "    </tr>\n",
       "  </tbody>\n",
       "</table>\n",
       "</div>"
      ],
      "text/plain": [
       "  Producto  Inventario_actual  Ventas_anuales  Tasa de Rotacion\n",
       "0   Laptop                200             600               3.0\n",
       "1    Mouse               1500            1800               1.2\n",
       "2  Teclado                800             900               1.1\n",
       "3  Monitor                150             300               2.0"
      ]
     },
     "execution_count": 46,
     "metadata": {},
     "output_type": "execute_result"
    }
   ],
   "source": [
    "df_inventario['Tasa de Rotacion']=round( df_inventario['Ventas_anuales']/df_inventario['Inventario_actual'],1)\n",
    "df_inventario"
   ]
  },
  {
   "cell_type": "markdown",
   "metadata": {},
   "source": [
    "### **Ejercicio 4: Evaluación de Campañas de Marketing**\n",
    "Se te ha proporcionado un DataFrame con los resultados de diferentes campañas de marketing en términos de alcance y conversiones. Analiza la eficacia de cada campaña para determinar cuál ha tenido el mejor rendimiento en términos de ROI (retorno de inversión)."
   ]
  },
  {
   "cell_type": "code",
   "execution_count": 52,
   "metadata": {},
   "outputs": [],
   "source": [
    "data_campañas = {\n",
    "    'Campaña': ['A', 'B', 'C', 'D'],\n",
    "    'Alcance': [1000, 3000, 2000, 5000],\n",
    "    'Conversiones': [50, 150, 100, 200],\n",
    "    'Costo': [500, 1500, 1000, 2500]\n",
    "}\n",
    "\n",
    "df_campañas = pd.DataFrame(data_campañas)"
   ]
  },
  {
   "cell_type": "code",
   "execution_count": 53,
   "metadata": {},
   "outputs": [
    {
     "data": {
      "text/html": [
       "<div>\n",
       "<style scoped>\n",
       "    .dataframe tbody tr th:only-of-type {\n",
       "        vertical-align: middle;\n",
       "    }\n",
       "\n",
       "    .dataframe tbody tr th {\n",
       "        vertical-align: top;\n",
       "    }\n",
       "\n",
       "    .dataframe thead th {\n",
       "        text-align: right;\n",
       "    }\n",
       "</style>\n",
       "<table border=\"1\" class=\"dataframe\">\n",
       "  <thead>\n",
       "    <tr style=\"text-align: right;\">\n",
       "      <th></th>\n",
       "      <th>Campaña</th>\n",
       "      <th>Alcance</th>\n",
       "      <th>Conversiones</th>\n",
       "      <th>Costo</th>\n",
       "      <th>retorno_inverion</th>\n",
       "    </tr>\n",
       "  </thead>\n",
       "  <tbody>\n",
       "    <tr>\n",
       "      <th>0</th>\n",
       "      <td>A</td>\n",
       "      <td>1000</td>\n",
       "      <td>50</td>\n",
       "      <td>500</td>\n",
       "      <td>-0.90</td>\n",
       "    </tr>\n",
       "    <tr>\n",
       "      <th>1</th>\n",
       "      <td>B</td>\n",
       "      <td>3000</td>\n",
       "      <td>150</td>\n",
       "      <td>1500</td>\n",
       "      <td>-0.90</td>\n",
       "    </tr>\n",
       "    <tr>\n",
       "      <th>2</th>\n",
       "      <td>C</td>\n",
       "      <td>2000</td>\n",
       "      <td>100</td>\n",
       "      <td>1000</td>\n",
       "      <td>-0.90</td>\n",
       "    </tr>\n",
       "    <tr>\n",
       "      <th>3</th>\n",
       "      <td>D</td>\n",
       "      <td>5000</td>\n",
       "      <td>200</td>\n",
       "      <td>2500</td>\n",
       "      <td>-0.92</td>\n",
       "    </tr>\n",
       "  </tbody>\n",
       "</table>\n",
       "</div>"
      ],
      "text/plain": [
       "  Campaña  Alcance  Conversiones  Costo  retorno_inverion\n",
       "0       A     1000            50    500             -0.90\n",
       "1       B     3000           150   1500             -0.90\n",
       "2       C     2000           100   1000             -0.90\n",
       "3       D     5000           200   2500             -0.92"
      ]
     },
     "execution_count": 53,
     "metadata": {},
     "output_type": "execute_result"
    }
   ],
   "source": [
    "#Al no tener el ingreso de la converision, realizamos un ROI en base a logros y costos.\n",
    "df_campañas['retorno_inverion'] = (df_campañas['Conversiones'] - df_campañas['Costo']) / df_campañas['Costo']\n",
    "\n",
    "df_campañas"
   ]
  },
  {
   "cell_type": "markdown",
   "metadata": {},
   "source": [
    "### **Ejercicio 6 (Investigación): Uso del método `melt` en Pandas**\n",
    "\n",
    "**Investiga cómo se utiliza el método `melt` de pandas para transformar DataFrames de un formato ancho a uno largo.** Crea un DataFrame que represente ventas de varios productos en diferentes meses, utiliza `melt` para cambiar su estructura y analiza cómo podría ser útil este formato para comparaciones o visualizaciones posteriores."
   ]
  },
  {
   "cell_type": "code",
   "execution_count": 54,
   "metadata": {},
   "outputs": [],
   "source": [
    "data_ventas = {\n",
    "    'Producto': ['Laptop', 'Smartphone', 'Tablet'],\n",
    "    'Enero': [100, 150, 200],\n",
    "    'Febrero': [110, 120, 180]\n",
    "}\n",
    "\n",
    "df_ventas = pd.DataFrame(data_ventas)"
   ]
  },
  {
   "cell_type": "code",
   "execution_count": 56,
   "metadata": {},
   "outputs": [
    {
     "data": {
      "text/html": [
       "<div>\n",
       "<style scoped>\n",
       "    .dataframe tbody tr th:only-of-type {\n",
       "        vertical-align: middle;\n",
       "    }\n",
       "\n",
       "    .dataframe tbody tr th {\n",
       "        vertical-align: top;\n",
       "    }\n",
       "\n",
       "    .dataframe thead th {\n",
       "        text-align: right;\n",
       "    }\n",
       "</style>\n",
       "<table border=\"1\" class=\"dataframe\">\n",
       "  <thead>\n",
       "    <tr style=\"text-align: right;\">\n",
       "      <th></th>\n",
       "      <th>Producto</th>\n",
       "      <th>Mes</th>\n",
       "      <th>Ventas</th>\n",
       "    </tr>\n",
       "  </thead>\n",
       "  <tbody>\n",
       "    <tr>\n",
       "      <th>0</th>\n",
       "      <td>Laptop</td>\n",
       "      <td>Enero</td>\n",
       "      <td>100</td>\n",
       "    </tr>\n",
       "    <tr>\n",
       "      <th>1</th>\n",
       "      <td>Smartphone</td>\n",
       "      <td>Enero</td>\n",
       "      <td>150</td>\n",
       "    </tr>\n",
       "    <tr>\n",
       "      <th>2</th>\n",
       "      <td>Tablet</td>\n",
       "      <td>Enero</td>\n",
       "      <td>200</td>\n",
       "    </tr>\n",
       "    <tr>\n",
       "      <th>3</th>\n",
       "      <td>Laptop</td>\n",
       "      <td>Febrero</td>\n",
       "      <td>110</td>\n",
       "    </tr>\n",
       "    <tr>\n",
       "      <th>4</th>\n",
       "      <td>Smartphone</td>\n",
       "      <td>Febrero</td>\n",
       "      <td>120</td>\n",
       "    </tr>\n",
       "    <tr>\n",
       "      <th>5</th>\n",
       "      <td>Tablet</td>\n",
       "      <td>Febrero</td>\n",
       "      <td>180</td>\n",
       "    </tr>\n",
       "  </tbody>\n",
       "</table>\n",
       "</div>"
      ],
      "text/plain": [
       "     Producto      Mes  Ventas\n",
       "0      Laptop    Enero     100\n",
       "1  Smartphone    Enero     150\n",
       "2      Tablet    Enero     200\n",
       "3      Laptop  Febrero     110\n",
       "4  Smartphone  Febrero     120\n",
       "5      Tablet  Febrero     180"
      ]
     },
     "execution_count": 56,
     "metadata": {},
     "output_type": "execute_result"
    }
   ],
   "source": [
    "#Realizo una trsposicion larga\n",
    "df_largo=pd.melt(df_ventas,\n",
    "                 id_vars=['Producto'],\n",
    "                 value_vars=['Enero', 'Febrero'],\n",
    "                 var_name='Mes',\n",
    "                 value_name='Ventas')\n",
    "\n",
    "df_largo"
   ]
  }
 ],
 "metadata": {
  "kernelspec": {
   "display_name": "curso-ine",
   "language": "python",
   "name": "python3"
  },
  "language_info": {
   "codemirror_mode": {
    "name": "ipython",
    "version": 3
   },
   "file_extension": ".py",
   "mimetype": "text/x-python",
   "name": "python",
   "nbconvert_exporter": "python",
   "pygments_lexer": "ipython3",
   "version": "3.11.3"
  }
 },
 "nbformat": 4,
 "nbformat_minor": 2
}
